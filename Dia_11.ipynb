{
  "nbformat": 4,
  "nbformat_minor": 0,
  "metadata": {
    "colab": {
      "provenance": [],
      "authorship_tag": "ABX9TyPoL34HH3hH2jc8F5ERqj2T",
      "include_colab_link": true
    },
    "kernelspec": {
      "name": "python3",
      "display_name": "Python 3"
    },
    "language_info": {
      "name": "python"
    }
  },
  "cells": [
    {
      "cell_type": "markdown",
      "metadata": {
        "id": "view-in-github",
        "colab_type": "text"
      },
      "source": [
        "<a href=\"https://colab.research.google.com/github/Chrisalex02/Python_practices/blob/main/Dia_11.ipynb\" target=\"_parent\"><img src=\"https://colab.research.google.com/assets/colab-badge.svg\" alt=\"Open In Colab\"/></a>"
      ]
    },
    {
      "cell_type": "markdown",
      "source": [
        "#**Funciones De Conjunto**\n",
        "\n",
        "Numpy permite realizar operaciones en un ndarray asumiendo que sus elementos forman un conjunto"
      ],
      "metadata": {
        "id": "glZnUuWOCJre"
      }
    },
    {
      "cell_type": "markdown",
      "source": [
        "> * **unique:** numero de elementos sin duplicar\n",
        "\n",
        "> * **intersect:** puntosnco!Munes de dos arrays\n",
        "\n",
        "> * **union1d:** calculs La Union De Dos Arrays\n",
        "\n"
      ],
      "metadata": {
        "id": "guIUWGcICvDc"
      }
    },
    {
      "cell_type": "code",
      "execution_count": null,
      "metadata": {
        "id": "aG1_p5nRAS0Y"
      },
      "outputs": [],
      "source": []
    }
  ]
}