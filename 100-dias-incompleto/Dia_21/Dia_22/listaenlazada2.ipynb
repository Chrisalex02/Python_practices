{
  "cells": [
    {
      "cell_type": "code",
      "execution_count": 1,
      "metadata": {
        "id": "qW8WYWf3p_XG"
      },
      "outputs": [],
      "source": [
        "class nodo():\n",
        "\n",
        "  def __init__(self, dato, siguiente):\n",
        "    self.dato = dato\n",
        "    self.siguiente = siguiente"
      ]
    },
    {
      "cell_type": "markdown",
      "source": [],
      "metadata": {
        "id": "uuQpPmXNq2q0"
      }
    },
    {
      "cell_type": "code",
      "source": [
        "nodo1 = None\n",
        "nodo2 = nodo(\"Stephany\", None)#No apunta a nadie por ser el primero\n",
        "nodo3 = nodo(\"Josiely\", nodo2)#El segundo nodo debe recibir el primero"
      ],
      "metadata": {
        "id": "Mo8ID-ATqX1m"
      },
      "execution_count": 2,
      "outputs": []
    },
    {
      "cell_type": "code",
      "execution_count": 3,
      "metadata": {
        "id": "B29BVkArp_XS"
      },
      "outputs": [],
      "source": [
        "nodo1"
      ]
    },
    {
      "cell_type": "code",
      "source": [
        "nodo2.siguiente"
      ],
      "metadata": {
        "id": "WYOA_7DPrp_m"
      },
      "execution_count": 6,
      "outputs": []
    },
    {
      "cell_type": "code",
      "source": [
        "nodo3.siguiente.siguiente"
      ],
      "metadata": {
        "id": "moVQp3sVr0qS"
      },
      "execution_count": 10,
      "outputs": []
    },
    {
      "cell_type": "code",
      "source": [
        "nodo1 = nodo(\"Willianny\", nodo3)"
      ],
      "metadata": {
        "id": "sWpr6za0sMxz"
      },
      "execution_count": 11,
      "outputs": []
    },
    {
      "cell_type": "code",
      "source": [
        "nodo1.siguiente.siguiente.dato"
      ],
      "metadata": {
        "id": "XmBwefmTsZoP",
        "outputId": "4e480ac2-f5fa-4390-8ce1-b9b03db40583",
        "colab": {
          "base_uri": "https://localhost:8080/",
          "height": 35
        }
      },
      "execution_count": 17,
      "outputs": [
        {
          "output_type": "execute_result",
          "data": {
            "text/plain": [
              "'Stephany'"
            ],
            "application/vnd.google.colaboratory.intrinsic+json": {
              "type": "string"
            }
          },
          "metadata": {},
          "execution_count": 17
        }
      ]
    },
    {
      "cell_type": "code",
      "source": [
        "cabeza = nodo(\"jhon\", None)\n",
        "cabeza = nodo(\"maria\", nodo(\"jhon\", None))\n",
        "cabeza = nodo(\"jose\", nodo(\"maria\", nodo(\"jhon\", None)))"
      ],
      "metadata": {
        "id": "eVYrLIhOsz_f"
      },
      "execution_count": 18,
      "outputs": []
    },
    {
      "cell_type": "code",
      "source": [
        "cabeza.siguiente.siguiente.dato"
      ],
      "metadata": {
        "id": "Q-3U2IlpsulM",
        "outputId": "79a4784d-abe4-47b2-bd62-6e88c1966c73",
        "colab": {
          "base_uri": "https://localhost:8080/",
          "height": 35
        }
      },
      "execution_count": 19,
      "outputs": [
        {
          "output_type": "execute_result",
          "data": {
            "text/plain": [
              "'jhon'"
            ],
            "application/vnd.google.colaboratory.intrinsic+json": {
              "type": "string"
            }
          },
          "metadata": {},
          "execution_count": 19
        }
      ]
    },
    {
      "cell_type": "code",
      "source": [
        "cabeza = None\n",
        "\n",
        "for numero in range(1,11):\n",
        "  cabeza = nodo(numero, cabeza)"
      ],
      "metadata": {
        "id": "jyjN9GJOsrxN"
      },
      "execution_count": 21,
      "outputs": []
    },
    {
      "cell_type": "code",
      "source": [
        "while cabeza != None:\n",
        "  print(cabeza.dato)\n",
        "  cabeza = cabeza.siguiente"
      ],
      "metadata": {
        "id": "2YgBpzVmw-JY",
        "outputId": "2624aaf0-32ae-4d90-da56-cd9780d80917",
        "colab": {
          "base_uri": "https://localhost:8080/"
        }
      },
      "execution_count": 22,
      "outputs": [
        {
          "output_type": "stream",
          "name": "stdout",
          "text": [
            "10\n",
            "9\n",
            "8\n",
            "7\n",
            "6\n",
            "5\n",
            "4\n",
            "3\n",
            "2\n",
            "1\n"
          ]
        }
      ]
    },
    {
      "cell_type": "code",
      "source": [
        "class lista_ligada:\n",
        "\n",
        "  def __init__(self):\n",
        "    self.cabeza = None\n",
        "    self.tamano = 0\n",
        "\n",
        "  def unir(self, dato):\n",
        "    Nodo = nodo(dato, None)\n",
        "    if self.cabeza == None:\n",
        "      self.cabeza == Nodo\n",
        "    else:\n",
        "      posicion_actual = self.cabeza\n",
        "      while posicion_actual.siguiente:\n",
        "        posicion_actual = posicion_actual.siguiente\n",
        "      #Añadiendo el nuevo nodo al final\n",
        "      posicion_actual.siguiente = Nodo\n",
        "\n",
        "    self.tamano += 1"
      ],
      "metadata": {
        "id": "Oqov05mWsm7A"
      },
      "execution_count": 26,
      "outputs": []
    },
    {
      "cell_type": "code",
      "source": [
        "mi_lista = lista_ligada()"
      ],
      "metadata": {
        "id": "-4BxLr_h8GWT"
      },
      "execution_count": 28,
      "outputs": []
    },
    {
      "cell_type": "code",
      "source": [
        "mi_lista.unir(\"python\")"
      ],
      "metadata": {
        "id": "QAqORIhjsedd"
      },
      "execution_count": 29,
      "outputs": []
    },
    {
      "cell_type": "code",
      "source": [],
      "metadata": {
        "id": "yxc9Sg49sbcf"
      },
      "execution_count": null,
      "outputs": []
    },
    {
      "cell_type": "markdown",
      "source": [
        "#Pilas = LIFO"
      ],
      "metadata": {
        "id": "pTvrQG4k_xuJ"
      }
    },
    {
      "cell_type": "code",
      "source": [
        "pila = []"
      ],
      "metadata": {
        "id": "1VK-RD6t_6AQ"
      },
      "execution_count": 30,
      "outputs": []
    },
    {
      "cell_type": "code",
      "source": [
        "pila.append(\"celular\")\n",
        "print(pila)"
      ],
      "metadata": {
        "id": "j4iWYvpjBPw5",
        "outputId": "958be171-6236-400f-bf47-680ff199d2c8",
        "colab": {
          "base_uri": "https://localhost:8080/"
        }
      },
      "execution_count": 31,
      "outputs": [
        {
          "output_type": "stream",
          "name": "stdout",
          "text": [
            "['celular']\n"
          ]
        }
      ]
    },
    {
      "cell_type": "code",
      "source": [],
      "metadata": {
        "id": "PbeE9gH0BWHW"
      },
      "execution_count": null,
      "outputs": []
    },
    {
      "cell_type": "markdown",
      "source": [
        "#Colas = FIFO"
      ],
      "metadata": {
        "id": "agEqYws2AjVx"
      }
    },
    {
      "cell_type": "code",
      "source": [
        "k"
      ],
      "metadata": {
        "id": "5lxfgg54Amn6"
      },
      "execution_count": null,
      "outputs": []
    }
  ],
  "metadata": {
    "language_info": {
      "name": "python"
    },
    "orig_nbformat": 4,
    "colab": {
      "provenance": []
    },
    "kernelspec": {
      "name": "python3",
      "display_name": "Python 3"
    }
  },
  "nbformat": 4,
  "nbformat_minor": 0
}