{
  "cells": [
    {
      "cell_type": "markdown",
      "source": [
        "#**La base de NumPy ndarray**\n",
        "\n",
        "Toda la libreria de numpy se basa en la estructura de datos conocida como matriz multidimensional o ndarray\n"
      ],
      "metadata": {
        "id": "-3AEBZovk2AU"
      }
    },
    {
      "cell_type": "markdown",
      "source": [
        "\n",
        "#Caracteristicas basicas de un ndarray\n",
        "\n",
        "* Un ndarray puede contener elementos de **cualquier tipo**\n",
        "* Todos los elementos del ndarray deben ser del **mismo tipo**\n",
        "* El tamaño de un ndarray (numero de elemtos) se define al momento de su creación y no se puede modificar\n",
        "* La organización de los elementos si se puede modificar\n"
      ],
      "metadata": {
        "id": "R9C6Auf1lqtN"
      }
    },
    {
      "cell_type": "markdown",
      "source": [
        "#Uso basico de cualquier elemento de NumPy\n",
        "\n",
        "NumPy **No** es un modulo del nucelo de python por lo que debe ser importado cada vez que se desea usar, ya sea de forma completa o elemento por elemento"
      ],
      "metadata": {
        "id": "JZf8ePGFmk6M"
      }
    },
    {
      "cell_type": "code",
      "source": [
        "import numpy as np"
      ],
      "metadata": {
        "id": "g1vDEKEZnBKp"
      },
      "execution_count": 2,
      "outputs": []
    },
    {
      "cell_type": "markdown",
      "source": [
        "#**Creación de un ndarray** "
      ],
      "metadata": {
        "id": "OB7bCWUPnQnW"
      }
    },
    {
      "cell_type": "markdown",
      "source": [
        "Creación de un ndarray vacio"
      ],
      "metadata": {
        "id": "0uMtUbwang1w"
      }
    },
    {
      "cell_type": "code",
      "source": [
        "#Especificando dimensiones\n",
        "array_vacio = np.empty((3,2), dtype = np.unicode)\n",
        "array_vacio"
      ],
      "metadata": {
        "id": "dQQxYOXNnnm1",
        "outputId": "6cedb198-a535-4d8a-de45-347d04d12adf",
        "colab": {
          "base_uri": "https://localhost:8080/"
        }
      },
      "execution_count": 4,
      "outputs": [
        {
          "output_type": "stream",
          "name": "stderr",
          "text": [
            "/usr/local/lib/python3.7/dist-packages/ipykernel_launcher.py:2: DeprecationWarning: `np.unicode` is a deprecated alias for `np.compat.unicode`. To silence this warning, use `np.compat.unicode` by itself. In the likely event your code does not need to work on Python 2 you can use the builtin `str` for which `np.compat.unicode` is itself an alias. Doing this will not modify any behaviour and is safe. If you specifically wanted the numpy scalar type, use `np.str_` here.\n",
            "Deprecated in NumPy 1.20; for more details and guidance: https://numpy.org/devdocs/release/1.20.0-notes.html#deprecations\n",
            "  \n"
          ]
        },
        {
          "output_type": "execute_result",
          "data": {
            "text/plain": [
              "array([['', ''],\n",
              "       ['', ''],\n",
              "       ['', '']], dtype='<U1')"
            ]
          },
          "metadata": {},
          "execution_count": 4
        }
      ]
    },
    {
      "cell_type": "markdown",
      "source": [
        "Copiando dimensiones y tipo desde otra estructura"
      ],
      "metadata": {
        "id": "gxDwkavSodtW"
      }
    },
    {
      "cell_type": "code",
      "source": [
        "array_vacio_copia = np.empty_like([1,2,3,4,5])\n",
        "array_vacio_copia"
      ],
      "metadata": {
        "id": "N-gzhwfHohyi",
        "outputId": "f7f1fdf9-06a1-4489-b6c5-e9bbba0ade8a",
        "colab": {
          "base_uri": "https://localhost:8080/"
        }
      },
      "execution_count": 5,
      "outputs": [
        {
          "output_type": "execute_result",
          "data": {
            "text/plain": [
              "array([57812240,        0,        0,        0,        0])"
            ]
          },
          "metadata": {},
          "execution_count": 5
        }
      ]
    },
    {
      "cell_type": "markdown",
      "source": [
        "Creacion de un ndarray de unos"
      ],
      "metadata": {
        "id": "HUkwAwwoCJ0u"
      }
    },
    {
      "cell_type": "code",
      "source": [
        "#Especificando dimensiones\n",
        "array_unos = np.ones((3,2))\n",
        "array_unos"
      ],
      "metadata": {
        "id": "Bw00r7glCO76",
        "outputId": "36892a51-9aaa-4459-e47a-2027e3cfbf4e",
        "colab": {
          "base_uri": "https://localhost:8080/"
        }
      },
      "execution_count": 7,
      "outputs": [
        {
          "output_type": "execute_result",
          "data": {
            "text/plain": [
              "array([[1., 1.],\n",
              "       [1., 1.],\n",
              "       [1., 1.]])"
            ]
          },
          "metadata": {},
          "execution_count": 7
        }
      ]
    },
    {
      "cell_type": "code",
      "source": [
        "#Copiando dimensiones y tipos desde otra estructura\n",
        "array_unos_copy = np.ones_like([1,2,3,4,5])\n",
        "array_unos_copy"
      ],
      "metadata": {
        "id": "YeXAtII-CqID",
        "outputId": "a3778244-ff56-4e97-fdfd-76d63ebccbc4",
        "colab": {
          "base_uri": "https://localhost:8080/"
        }
      },
      "execution_count": 8,
      "outputs": [
        {
          "output_type": "execute_result",
          "data": {
            "text/plain": [
              "array([1, 1, 1, 1, 1])"
            ]
          },
          "metadata": {},
          "execution_count": 8
        }
      ]
    },
    {
      "cell_type": "markdown",
      "source": [
        "Creacion de un ndarray de ceros"
      ],
      "metadata": {
        "id": "7ntf370sngyC"
      }
    },
    {
      "cell_type": "code",
      "source": [
        "#Especificando dimensiones\n",
        "array_ceros = np.zeros((3,2))\n",
        "array_ceros"
      ],
      "metadata": {
        "id": "FLA1gGUQDZF_",
        "outputId": "a9d856d2-dc69-498f-acc8-920a4e599947",
        "colab": {
          "base_uri": "https://localhost:8080/"
        }
      },
      "execution_count": 9,
      "outputs": [
        {
          "output_type": "execute_result",
          "data": {
            "text/plain": [
              "array([[0., 0.],\n",
              "       [0., 0.],\n",
              "       [0., 0.]])"
            ]
          },
          "metadata": {},
          "execution_count": 9
        }
      ]
    },
    {
      "cell_type": "code",
      "source": [
        "#Copiando dimensiones y tipos desde otra estructura\n",
        "array_ceros_copy = np.zeros_like([1,2,3,4,5])\n",
        "array_ceros_copy"
      ],
      "metadata": {
        "id": "_-DdkwQ8DrUd",
        "outputId": "9976625d-64e4-4b92-f6ef-32aad4c8a951",
        "colab": {
          "base_uri": "https://localhost:8080/"
        }
      },
      "execution_count": 11,
      "outputs": [
        {
          "output_type": "execute_result",
          "data": {
            "text/plain": [
              "array([0, 0, 0, 0, 0])"
            ]
          },
          "metadata": {},
          "execution_count": 11
        }
      ]
    },
    {
      "cell_type": "markdown",
      "source": [
        "\n",
        "Creación de una matriz identidad con ndarray"
      ],
      "metadata": {
        "id": "XzQZ4zrvnQi8"
      }
    },
    {
      "cell_type": "code",
      "source": [
        "array_identidad = np.identity(3)\n",
        "array_identidad"
      ],
      "metadata": {
        "id": "jGW0nmq_Es4o",
        "outputId": "07776736-89f9-4489-88d1-7bdc99bd9640",
        "colab": {
          "base_uri": "https://localhost:8080/"
        }
      },
      "execution_count": 12,
      "outputs": [
        {
          "output_type": "execute_result",
          "data": {
            "text/plain": [
              "array([[1., 0., 0.],\n",
              "       [0., 1., 0.],\n",
              "       [0., 0., 1.]])"
            ]
          },
          "metadata": {},
          "execution_count": 12
        }
      ]
    },
    {
      "cell_type": "markdown",
      "metadata": {
        "id": "iJQNn48dXwYk"
      },
      "source": [
        "Creacion de un ndarray con unos en las diagonales"
      ]
    },
    {
      "cell_type": "code",
      "source": [
        "#Creacion de un array con unos en la diagonal principal\n",
        "array_identidad = np.eye(4)\n",
        "array_identidad"
      ],
      "metadata": {
        "id": "aJL_whJ8FZBW",
        "outputId": "e6f7a49b-5b29-4792-fe4c-27db30c31062",
        "colab": {
          "base_uri": "https://localhost:8080/"
        }
      },
      "execution_count": 13,
      "outputs": [
        {
          "output_type": "execute_result",
          "data": {
            "text/plain": [
              "array([[1., 0., 0., 0.],\n",
              "       [0., 1., 0., 0.],\n",
              "       [0., 0., 1., 0.],\n",
              "       [0., 0., 0., 1.]])"
            ]
          },
          "metadata": {},
          "execution_count": 13
        }
      ]
    },
    {
      "cell_type": "code",
      "source": [
        "#K = 1 Unos en la diagonal por encima de la principal\n",
        "array_con_segunda_diagonal = np.eye(4, k = 1)\n",
        "array_con_segunda_diagonal"
      ],
      "metadata": {
        "id": "n7uDMXOIHMDh",
        "outputId": "3323311b-90a2-4e5d-a6c1-569a62424632",
        "colab": {
          "base_uri": "https://localhost:8080/"
        }
      },
      "execution_count": 16,
      "outputs": [
        {
          "output_type": "execute_result",
          "data": {
            "text/plain": [
              "array([[0., 1., 0., 0.],\n",
              "       [0., 0., 1., 0.],\n",
              "       [0., 0., 0., 1.],\n",
              "       [0., 0., 0., 0.]])"
            ]
          },
          "metadata": {},
          "execution_count": 16
        }
      ]
    },
    {
      "cell_type": "code",
      "source": [
        "#Matriz no cuadrada con unos en la diagonal especificada\n",
        "array_no_cuadrado = np.eye(4, 3, k=-1)\n",
        "array_no_cuadrado"
      ],
      "metadata": {
        "id": "bItS7TRXHvi5",
        "outputId": "fe7f1ead-f029-40fe-de08-a2c45232d0c2",
        "colab": {
          "base_uri": "https://localhost:8080/"
        }
      },
      "execution_count": 17,
      "outputs": [
        {
          "output_type": "execute_result",
          "data": {
            "text/plain": [
              "array([[0., 0., 0.],\n",
              "       [1., 0., 0.],\n",
              "       [0., 1., 0.],\n",
              "       [0., 0., 1.]])"
            ]
          },
          "metadata": {},
          "execution_count": 17
        }
      ]
    },
    {
      "cell_type": "markdown",
      "source": [
        "Creacion de un ndarray cuyos elementos son una secuencia numerica"
      ],
      "metadata": {
        "id": "CenBJrL3LcBr"
      }
    },
    {
      "cell_type": "code",
      "source": [
        "#Un parametro = desde 0 (valor incluido) hasta el numero indicado (no incluido)\n",
        "array_secuencia1 = np.arange(10)\n",
        "array_secuencia1"
      ],
      "metadata": {
        "id": "u72pBkf7Lg_X",
        "outputId": "69b97e55-8b84-4117-8615-fdef19c583e1",
        "colab": {
          "base_uri": "https://localhost:8080/"
        }
      },
      "execution_count": 18,
      "outputs": [
        {
          "output_type": "execute_result",
          "data": {
            "text/plain": [
              "array([0, 1, 2, 3, 4, 5, 6, 7, 8, 9])"
            ]
          },
          "metadata": {},
          "execution_count": 18
        }
      ]
    },
    {
      "cell_type": "code",
      "source": [
        "#Dos parametros primer valor (incluido) hasta el segundo valor (no incluido)\n",
        "array_secuencia2 = np.arange(5,9)\n",
        "array_secuencia2"
      ],
      "metadata": {
        "id": "P1Wh8FaEMF6o",
        "outputId": "5841e5dd-4762-477a-ec0b-85cc19cd5ed4",
        "colab": {
          "base_uri": "https://localhost:8080/"
        }
      },
      "execution_count": 19,
      "outputs": [
        {
          "output_type": "execute_result",
          "data": {
            "text/plain": [
              "array([5, 6, 7, 8])"
            ]
          },
          "metadata": {},
          "execution_count": 19
        }
      ]
    },
    {
      "cell_type": "code",
      "source": [
        "#tres parametros = primer valor incluido, segundo valor no incluido, tercer valor: saltos\n",
        "array_secuencia3 = np.arange(5, 20, 2)\n",
        "array_secuencia3"
      ],
      "metadata": {
        "id": "DfS_i3a4M3vy",
        "outputId": "0473e372-c018-49b5-f3dc-5e491a6a0c7c",
        "colab": {
          "base_uri": "https://localhost:8080/"
        }
      },
      "execution_count": 20,
      "outputs": [
        {
          "output_type": "execute_result",
          "data": {
            "text/plain": [
              "array([ 5,  7,  9, 11, 13, 15, 17, 19])"
            ]
          },
          "metadata": {},
          "execution_count": 20
        }
      ]
    },
    {
      "cell_type": "markdown",
      "source": [
        "Creación de un ndarray apartir de una secuencia basica de Python"
      ],
      "metadata": {
        "id": "vVCMxupxObd6"
      }
    },
    {
      "cell_type": "code",
      "source": [
        "#Unidimensional\n",
        "array_basico = np.array([1,2,3,4,5])\n",
        "type(array_basico)"
      ],
      "metadata": {
        "id": "6sSmtT6rOk8I",
        "outputId": "4a3105f8-f697-418d-94c6-83a2d513b4d3",
        "colab": {
          "base_uri": "https://localhost:8080/"
        }
      },
      "execution_count": 21,
      "outputs": [
        {
          "output_type": "execute_result",
          "data": {
            "text/plain": [
              "numpy.ndarray"
            ]
          },
          "metadata": {},
          "execution_count": 21
        }
      ]
    },
    {
      "cell_type": "code",
      "source": [
        "#Multidimensional\n",
        "array_basico_multidimensional = np.array([ [1,2,3,4] , [5,6,7,8,9] ])\n",
        "array_basico_multidimensional"
      ],
      "metadata": {
        "id": "v8NeA8Y8PLog",
        "outputId": "9cf79b43-0b92-4eaf-8d6d-cb07a88f217a",
        "colab": {
          "base_uri": "https://localhost:8080/"
        }
      },
      "execution_count": 25,
      "outputs": [
        {
          "output_type": "stream",
          "name": "stderr",
          "text": [
            "/usr/local/lib/python3.7/dist-packages/ipykernel_launcher.py:2: VisibleDeprecationWarning: Creating an ndarray from ragged nested sequences (which is a list-or-tuple of lists-or-tuples-or ndarrays with different lengths or shapes) is deprecated. If you meant to do this, you must specify 'dtype=object' when creating the ndarray.\n",
            "  \n"
          ]
        },
        {
          "output_type": "execute_result",
          "data": {
            "text/plain": [
              "array([list([1, 2, 3, 4]), list([5, 6, 7, 8, 9])], dtype=object)"
            ]
          },
          "metadata": {},
          "execution_count": 25
        }
      ]
    },
    {
      "cell_type": "markdown",
      "source": [
        "# **Tipos de dato en nd arrays de NumPy**"
      ],
      "metadata": {
        "id": "HwbXxrn7QEGp"
      }
    },
    {
      "cell_type": "markdown",
      "source": [
        "* **Enteros con signo:** np.int8, np.int16, np.int32, npint64\n",
        "* **Enteros sin signo:** np.unit8, np.unit16, np.unit32, np.unit64\n",
        "* **Numeros en coma flotante:** np.float16, np.float32, np.float64, np.float128\n",
        "* **Booleanos:** np.bool\n",
        "* **Objetos:** np.object\n",
        "* **Cadenas de caracteres:** np.string\\_ , np.unicode\\_\n",
        "* ..."
      ],
      "metadata": {
        "id": "u6_XWJ6YQRkg"
      }
    },
    {
      "cell_type": "markdown",
      "source": [
        "**Especificación / Casting / Conversión de tipos entre ndarrays**"
      ],
      "metadata": {
        "id": "10ThKiGvRuzY"
      }
    },
    {
      "cell_type": "code",
      "source": [
        "array_inicial_enteros = np.array([1,2,3,4,5], dtype=np.int32) \n",
        "array_inicial_enteros"
      ],
      "metadata": {
        "id": "fQtE7_T6SQ60",
        "outputId": "71e82527-fdc5-489b-87fd-8231db3df9a0",
        "colab": {
          "base_uri": "https://localhost:8080/"
        }
      },
      "execution_count": 26,
      "outputs": [
        {
          "output_type": "execute_result",
          "data": {
            "text/plain": [
              "array([1, 2, 3, 4, 5], dtype=int32)"
            ]
          },
          "metadata": {},
          "execution_count": 26
        }
      ]
    },
    {
      "cell_type": "code",
      "source": [
        "array_float = np.asarray(array_inicial_enteros, dtype=np.float64)\n",
        "array_float"
      ],
      "metadata": {
        "id": "tVyF1ybLTTJA",
        "outputId": "8a30b06a-3890-491a-ff38-161061a4028e",
        "colab": {
          "base_uri": "https://localhost:8080/"
        }
      },
      "execution_count": 28,
      "outputs": [
        {
          "output_type": "execute_result",
          "data": {
            "text/plain": [
              "array([1., 2., 3., 4., 5.])"
            ]
          },
          "metadata": {},
          "execution_count": 28
        }
      ]
    },
    {
      "cell_type": "code",
      "source": [
        "array_strings = np.array(array_float, dtype=np.unicode_)\n",
        "array_strings"
      ],
      "metadata": {
        "id": "zGh97Ft-T1tD",
        "outputId": "1e1f1bf4-8473-4bb9-8dc6-3fdaeefecaff",
        "colab": {
          "base_uri": "https://localhost:8080/"
        }
      },
      "execution_count": 29,
      "outputs": [
        {
          "output_type": "execute_result",
          "data": {
            "text/plain": [
              "array(['1.0', '2.0', '3.0', '4.0', '5.0'], dtype='<U32')"
            ]
          },
          "metadata": {},
          "execution_count": 29
        }
      ]
    },
    {
      "cell_type": "markdown",
      "source": [
        "> **Consulta de la composicion de un ndarray**\n",
        "\n",
        ">* **dtype:** Tipo de contenido del array\n",
        ">* **ndim:** Numero de dimensiones/ejes del array\n",
        ">* **shape:** Estructura/forma del array, es decir, numero de elementos en cada uno de los ejes/ dimensiones\n",
        ">* **size:** Numero total de elemntos en el ndarray"
      ],
      "metadata": {
        "id": "p50t1tWxaKyk"
      }
    },
    {
      "cell_type": "code",
      "source": [
        "array = np.array([[1,2,3,4],[5,6,7,8],[9,10,11,12]])"
      ],
      "metadata": {
        "id": "4TWsw_LMUjhJ"
      },
      "execution_count": 30,
      "outputs": []
    },
    {
      "cell_type": "code",
      "source": [
        "#Tipo de dato (unico)\n",
        "array.dtype"
      ],
      "metadata": {
        "id": "ZmgUcqdTcioX",
        "outputId": "0fcc765f-523e-43b3-a633-f573711a752a",
        "colab": {
          "base_uri": "https://localhost:8080/"
        }
      },
      "execution_count": 31,
      "outputs": [
        {
          "output_type": "execute_result",
          "data": {
            "text/plain": [
              "dtype('int64')"
            ]
          },
          "metadata": {},
          "execution_count": 31
        }
      ]
    },
    {
      "cell_type": "code",
      "source": [
        "#Dimensiones del array\n",
        "array.ndim"
      ],
      "metadata": {
        "id": "cRINOULJcqF0",
        "outputId": "c5b80aa9-1b3d-4e56-ec8a-bf475e32f3af",
        "colab": {
          "base_uri": "https://localhost:8080/"
        }
      },
      "execution_count": 33,
      "outputs": [
        {
          "output_type": "execute_result",
          "data": {
            "text/plain": [
              "2"
            ]
          },
          "metadata": {},
          "execution_count": 33
        }
      ]
    },
    {
      "cell_type": "code",
      "source": [
        "#Forma/Dimensiones\n",
        "array.shape"
      ],
      "metadata": {
        "id": "UQJMJU6JcxuA",
        "outputId": "f359aa89-5889-41af-e2ce-206ad6658e63",
        "colab": {
          "base_uri": "https://localhost:8080/"
        }
      },
      "execution_count": 34,
      "outputs": [
        {
          "output_type": "execute_result",
          "data": {
            "text/plain": [
              "(3, 4)"
            ]
          },
          "metadata": {},
          "execution_count": 34
        }
      ]
    },
    {
      "cell_type": "code",
      "source": [
        "#Numero total de elementos\n",
        "array.size"
      ],
      "metadata": {
        "id": "dUsUAoZmc6kw",
        "outputId": "1e752646-2d5c-41f7-f1a8-fdcbc6b04c06",
        "colab": {
          "base_uri": "https://localhost:8080/"
        }
      },
      "execution_count": 36,
      "outputs": [
        {
          "output_type": "execute_result",
          "data": {
            "text/plain": [
              "12"
            ]
          },
          "metadata": {},
          "execution_count": 36
        }
      ]
    },
    {
      "cell_type": "code",
      "source": [],
      "metadata": {
        "id": "KEFZXi7IdHFx"
      },
      "execution_count": null,
      "outputs": []
    },
    {
      "cell_type": "markdown",
      "source": [],
      "metadata": {
        "id": "8vRsPEYXQRgx"
      }
    },
    {
      "cell_type": "code",
      "source": [],
      "metadata": {
        "id": "8zkDq5RpQQIC"
      },
      "execution_count": null,
      "outputs": []
    },
    {
      "cell_type": "code",
      "source": [],
      "metadata": {
        "id": "Ij2ICtwiPwGB"
      },
      "execution_count": null,
      "outputs": []
    }
  ],
  "metadata": {
    "kernelspec": {
      "display_name": "Python 3.8.13 64-bit ('shims')",
      "language": "python",
      "name": "python3"
    },
    "language_info": {
      "name": "python",
      "version": "3.8.13"
    },
    "orig_nbformat": 4,
    "vscode": {
      "interpreter": {
        "hash": "9ac03a0a6051494cc606d484d27d20fce22fb7b4d169f583271e11d5ba46a56e"
      }
    },
    "colab": {
      "provenance": []
    }
  },
  "nbformat": 4,
  "nbformat_minor": 0
}